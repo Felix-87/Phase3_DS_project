{
 "cells": [
  {
   "cell_type": "markdown",
   "metadata": {},
   "source": [
    "## Final Project Submission\n",
    "### Student name: Felix Limo.\n",
    "### Student pace: part time.\n",
    "### Scheduled project review date/time:\n",
    "### Instructor names: Samuel Karu & Daniel Ekale."
   ]
  },
  {
   "cell_type": "markdown",
   "metadata": {},
   "source": [
    "# 1.0 Introduction\n",
    "\n",
    "This project involves analysis of shipping data to draw insights and build a predictive model on future deliveries if they will be delivered 'On-time' or 'Delayed'. The research follows cross industry standard procedures (CRISP-DM) methodlogy fo the shipping industry(product supply chain)."
   ]
  },
  {
   "cell_type": "markdown",
   "metadata": {},
   "source": [
    "# 2.0 Business Understanding"
   ]
  },
  {
   "cell_type": "markdown",
   "metadata": {},
   "source": [
    "# 2.1 Objective\n",
    "\n",
    "Company involved in trade of electronic items in the international market is interested in the analysis of its data in customer database to draw insights and apply machine learning techniques  for predictive analytics. This aimed at optimizing its resources towards improving operational efficiency in mesting customer demands."
   ]
  },
  {
   "cell_type": "markdown",
   "metadata": {},
   "source": [
    "# 3.0 The Data\n",
    "\n",
    "The dataset for analysis 'E-Commerce Shipping Data' was drawn from; https://www.kaggle.com/datasets/prachi13/customer-analytics on Product Shipment Delivery to Meet E-Commerce Customer Demand.\n",
    "\n",
    "### Content\n",
    "The dataset used for model building contained 10999 observations of 12 variables.\n",
    "\n",
    "The data contains the following information:\n",
    "\n",
    "**ID:** ID Number of Customers.\n",
    "\n",
    "**Warehouse block:** The company has big Warehouse which is divided into block; A,B,C,D,E.\n",
    "\n",
    "**Mode of shipment:** The company delivers products either through Ship, Flight or Road.\n",
    "\n",
    "**Customer care calls:** The number of the customer enquiry calls.\n",
    "\n",
    "**Customer rating:** Customer rating on the company delivery. 1 is the lowest (Worst), 5 is the highest (Best).\n",
    "\n",
    "**Cost of the product:** Cost of the product in US Dollars.\n",
    "\n",
    "**Prior purchases:** The number of prior purchases.\n",
    "\n",
    "**Product importance:** Product categorization into low, medium, high.\n",
    "\n",
    "**Gender:** Male and Female.\n",
    "\n",
    "**Discount offered:** Discount offered on that specific product.\n",
    "\n",
    "**Weight in gms:** It is the weight in grams.\n",
    "\n",
    "**Reached on time:** It is the target variable, where 0 Indicates that the product has NOT reached on time and 1 indicates it has reached on time."
   ]
  },
  {
   "cell_type": "markdown",
   "metadata": {},
   "source": [
    "# 3.1 Data Understanding \n",
    "\n"
   ]
  },
  {
   "cell_type": "markdown",
   "metadata": {},
   "source": [
    "## Data Preview\n",
    "\n",
    "This is important  as it provides a snapshot of the type of information typically available in an e-commerce company's customer database.\n"
   ]
  },
  {
   "cell_type": "markdown",
   "metadata": {},
   "source": [
    "### *Import python libraries*"
   ]
  },
  {
   "cell_type": "code",
   "execution_count": 1,
   "metadata": {},
   "outputs": [],
   "source": [
    "import pandas as pd\n",
    "import numpy as np\n",
    "import matplotlib.pyplot as plt\n",
    "import seaborn as sns\n",
    "%matplotlib inline\n",
    "from scipy.stats import chi2_contingency\n",
    "import warnings\n",
    "warnings.filterwarnings('ignore')"
   ]
  },
  {
   "cell_type": "markdown",
   "metadata": {},
   "source": [
    "### *Load and read dataset*"
   ]
  },
  {
   "cell_type": "code",
   "execution_count": 2,
   "metadata": {},
   "outputs": [
    {
     "data": {
      "text/html": [
       "<div>\n",
       "<style scoped>\n",
       "    .dataframe tbody tr th:only-of-type {\n",
       "        vertical-align: middle;\n",
       "    }\n",
       "\n",
       "    .dataframe tbody tr th {\n",
       "        vertical-align: top;\n",
       "    }\n",
       "\n",
       "    .dataframe thead th {\n",
       "        text-align: right;\n",
       "    }\n",
       "</style>\n",
       "<table border=\"1\" class=\"dataframe\">\n",
       "  <thead>\n",
       "    <tr style=\"text-align: right;\">\n",
       "      <th></th>\n",
       "      <th>ID</th>\n",
       "      <th>Warehouse_block</th>\n",
       "      <th>Mode_of_Shipment</th>\n",
       "      <th>Customer_care_calls</th>\n",
       "      <th>Customer_rating</th>\n",
       "      <th>Cost_of_the_Product</th>\n",
       "      <th>Prior_purchases</th>\n",
       "      <th>Product_importance</th>\n",
       "      <th>Gender</th>\n",
       "      <th>Discount_offered</th>\n",
       "      <th>Weight_in_gms</th>\n",
       "      <th>Reached.on.Time_Y.N</th>\n",
       "    </tr>\n",
       "  </thead>\n",
       "  <tbody>\n",
       "    <tr>\n",
       "      <th>0</th>\n",
       "      <td>1</td>\n",
       "      <td>D</td>\n",
       "      <td>Flight</td>\n",
       "      <td>4</td>\n",
       "      <td>2</td>\n",
       "      <td>177</td>\n",
       "      <td>3</td>\n",
       "      <td>low</td>\n",
       "      <td>F</td>\n",
       "      <td>44</td>\n",
       "      <td>1233</td>\n",
       "      <td>1</td>\n",
       "    </tr>\n",
       "    <tr>\n",
       "      <th>1</th>\n",
       "      <td>2</td>\n",
       "      <td>F</td>\n",
       "      <td>Flight</td>\n",
       "      <td>4</td>\n",
       "      <td>5</td>\n",
       "      <td>216</td>\n",
       "      <td>2</td>\n",
       "      <td>low</td>\n",
       "      <td>M</td>\n",
       "      <td>59</td>\n",
       "      <td>3088</td>\n",
       "      <td>1</td>\n",
       "    </tr>\n",
       "    <tr>\n",
       "      <th>2</th>\n",
       "      <td>3</td>\n",
       "      <td>A</td>\n",
       "      <td>Flight</td>\n",
       "      <td>2</td>\n",
       "      <td>2</td>\n",
       "      <td>183</td>\n",
       "      <td>4</td>\n",
       "      <td>low</td>\n",
       "      <td>M</td>\n",
       "      <td>48</td>\n",
       "      <td>3374</td>\n",
       "      <td>1</td>\n",
       "    </tr>\n",
       "    <tr>\n",
       "      <th>3</th>\n",
       "      <td>4</td>\n",
       "      <td>B</td>\n",
       "      <td>Flight</td>\n",
       "      <td>3</td>\n",
       "      <td>3</td>\n",
       "      <td>176</td>\n",
       "      <td>4</td>\n",
       "      <td>medium</td>\n",
       "      <td>M</td>\n",
       "      <td>10</td>\n",
       "      <td>1177</td>\n",
       "      <td>1</td>\n",
       "    </tr>\n",
       "    <tr>\n",
       "      <th>4</th>\n",
       "      <td>5</td>\n",
       "      <td>C</td>\n",
       "      <td>Flight</td>\n",
       "      <td>2</td>\n",
       "      <td>2</td>\n",
       "      <td>184</td>\n",
       "      <td>3</td>\n",
       "      <td>medium</td>\n",
       "      <td>F</td>\n",
       "      <td>46</td>\n",
       "      <td>2484</td>\n",
       "      <td>1</td>\n",
       "    </tr>\n",
       "  </tbody>\n",
       "</table>\n",
       "</div>"
      ],
      "text/plain": [
       "   ID Warehouse_block Mode_of_Shipment  Customer_care_calls  Customer_rating  \\\n",
       "0   1               D           Flight                    4                2   \n",
       "1   2               F           Flight                    4                5   \n",
       "2   3               A           Flight                    2                2   \n",
       "3   4               B           Flight                    3                3   \n",
       "4   5               C           Flight                    2                2   \n",
       "\n",
       "   Cost_of_the_Product  Prior_purchases Product_importance Gender  \\\n",
       "0                  177                3                low      F   \n",
       "1                  216                2                low      M   \n",
       "2                  183                4                low      M   \n",
       "3                  176                4             medium      M   \n",
       "4                  184                3             medium      F   \n",
       "\n",
       "   Discount_offered  Weight_in_gms  Reached.on.Time_Y.N  \n",
       "0                44           1233                    1  \n",
       "1                59           3088                    1  \n",
       "2                48           3374                    1  \n",
       "3                10           1177                    1  \n",
       "4                46           2484                    1  "
      ]
     },
     "execution_count": 2,
     "metadata": {},
     "output_type": "execute_result"
    }
   ],
   "source": [
    "#load dataset to dataframe df\n",
    "df = pd.read_csv(\"Train.csv\")\n",
    "df.head()"
   ]
  },
  {
   "cell_type": "code",
   "execution_count": 3,
   "metadata": {},
   "outputs": [
    {
     "data": {
      "text/html": [
       "<div>\n",
       "<style scoped>\n",
       "    .dataframe tbody tr th:only-of-type {\n",
       "        vertical-align: middle;\n",
       "    }\n",
       "\n",
       "    .dataframe tbody tr th {\n",
       "        vertical-align: top;\n",
       "    }\n",
       "\n",
       "    .dataframe thead th {\n",
       "        text-align: right;\n",
       "    }\n",
       "</style>\n",
       "<table border=\"1\" class=\"dataframe\">\n",
       "  <thead>\n",
       "    <tr style=\"text-align: right;\">\n",
       "      <th></th>\n",
       "      <th>count</th>\n",
       "      <th>mean</th>\n",
       "      <th>std</th>\n",
       "      <th>min</th>\n",
       "      <th>25%</th>\n",
       "      <th>50%</th>\n",
       "      <th>75%</th>\n",
       "      <th>max</th>\n",
       "    </tr>\n",
       "  </thead>\n",
       "  <tbody>\n",
       "    <tr>\n",
       "      <th>ID</th>\n",
       "      <td>10999.0</td>\n",
       "      <td>5500.000000</td>\n",
       "      <td>3175.282140</td>\n",
       "      <td>1.0</td>\n",
       "      <td>2750.5</td>\n",
       "      <td>5500.0</td>\n",
       "      <td>8249.5</td>\n",
       "      <td>10999.0</td>\n",
       "    </tr>\n",
       "    <tr>\n",
       "      <th>Customer_care_calls</th>\n",
       "      <td>10999.0</td>\n",
       "      <td>4.054459</td>\n",
       "      <td>1.141490</td>\n",
       "      <td>2.0</td>\n",
       "      <td>3.0</td>\n",
       "      <td>4.0</td>\n",
       "      <td>5.0</td>\n",
       "      <td>7.0</td>\n",
       "    </tr>\n",
       "    <tr>\n",
       "      <th>Customer_rating</th>\n",
       "      <td>10999.0</td>\n",
       "      <td>2.990545</td>\n",
       "      <td>1.413603</td>\n",
       "      <td>1.0</td>\n",
       "      <td>2.0</td>\n",
       "      <td>3.0</td>\n",
       "      <td>4.0</td>\n",
       "      <td>5.0</td>\n",
       "    </tr>\n",
       "    <tr>\n",
       "      <th>Cost_of_the_Product</th>\n",
       "      <td>10999.0</td>\n",
       "      <td>210.196836</td>\n",
       "      <td>48.063272</td>\n",
       "      <td>96.0</td>\n",
       "      <td>169.0</td>\n",
       "      <td>214.0</td>\n",
       "      <td>251.0</td>\n",
       "      <td>310.0</td>\n",
       "    </tr>\n",
       "    <tr>\n",
       "      <th>Prior_purchases</th>\n",
       "      <td>10999.0</td>\n",
       "      <td>3.567597</td>\n",
       "      <td>1.522860</td>\n",
       "      <td>2.0</td>\n",
       "      <td>3.0</td>\n",
       "      <td>3.0</td>\n",
       "      <td>4.0</td>\n",
       "      <td>10.0</td>\n",
       "    </tr>\n",
       "    <tr>\n",
       "      <th>Discount_offered</th>\n",
       "      <td>10999.0</td>\n",
       "      <td>13.373216</td>\n",
       "      <td>16.205527</td>\n",
       "      <td>1.0</td>\n",
       "      <td>4.0</td>\n",
       "      <td>7.0</td>\n",
       "      <td>10.0</td>\n",
       "      <td>65.0</td>\n",
       "    </tr>\n",
       "    <tr>\n",
       "      <th>Weight_in_gms</th>\n",
       "      <td>10999.0</td>\n",
       "      <td>3634.016729</td>\n",
       "      <td>1635.377251</td>\n",
       "      <td>1001.0</td>\n",
       "      <td>1839.5</td>\n",
       "      <td>4149.0</td>\n",
       "      <td>5050.0</td>\n",
       "      <td>7846.0</td>\n",
       "    </tr>\n",
       "    <tr>\n",
       "      <th>Reached.on.Time_Y.N</th>\n",
       "      <td>10999.0</td>\n",
       "      <td>0.596691</td>\n",
       "      <td>0.490584</td>\n",
       "      <td>0.0</td>\n",
       "      <td>0.0</td>\n",
       "      <td>1.0</td>\n",
       "      <td>1.0</td>\n",
       "      <td>1.0</td>\n",
       "    </tr>\n",
       "  </tbody>\n",
       "</table>\n",
       "</div>"
      ],
      "text/plain": [
       "                       count         mean          std     min     25%  \\\n",
       "ID                   10999.0  5500.000000  3175.282140     1.0  2750.5   \n",
       "Customer_care_calls  10999.0     4.054459     1.141490     2.0     3.0   \n",
       "Customer_rating      10999.0     2.990545     1.413603     1.0     2.0   \n",
       "Cost_of_the_Product  10999.0   210.196836    48.063272    96.0   169.0   \n",
       "Prior_purchases      10999.0     3.567597     1.522860     2.0     3.0   \n",
       "Discount_offered     10999.0    13.373216    16.205527     1.0     4.0   \n",
       "Weight_in_gms        10999.0  3634.016729  1635.377251  1001.0  1839.5   \n",
       "Reached.on.Time_Y.N  10999.0     0.596691     0.490584     0.0     0.0   \n",
       "\n",
       "                        50%     75%      max  \n",
       "ID                   5500.0  8249.5  10999.0  \n",
       "Customer_care_calls     4.0     5.0      7.0  \n",
       "Customer_rating         3.0     4.0      5.0  \n",
       "Cost_of_the_Product   214.0   251.0    310.0  \n",
       "Prior_purchases         3.0     4.0     10.0  \n",
       "Discount_offered        7.0    10.0     65.0  \n",
       "Weight_in_gms        4149.0  5050.0   7846.0  \n",
       "Reached.on.Time_Y.N     1.0     1.0      1.0  "
      ]
     },
     "execution_count": 3,
     "metadata": {},
     "output_type": "execute_result"
    }
   ],
   "source": [
    "# Desribe the dataset\n",
    "df.describe().T"
   ]
  },
  {
   "cell_type": "code",
   "execution_count": 4,
   "metadata": {},
   "outputs": [
    {
     "data": {
      "text/plain": [
       "(10999, 12)"
      ]
     },
     "execution_count": 4,
     "metadata": {},
     "output_type": "execute_result"
    }
   ],
   "source": [
    "# Check on the shape\n",
    "df.shape"
   ]
  },
  {
   "cell_type": "code",
   "execution_count": 5,
   "metadata": {},
   "outputs": [
    {
     "name": "stdout",
     "output_type": "stream",
     "text": [
      "<class 'pandas.core.frame.DataFrame'>\n",
      "RangeIndex: 10999 entries, 0 to 10998\n",
      "Data columns (total 12 columns):\n",
      " #   Column               Non-Null Count  Dtype \n",
      "---  ------               --------------  ----- \n",
      " 0   ID                   10999 non-null  int64 \n",
      " 1   Warehouse_block      10999 non-null  object\n",
      " 2   Mode_of_Shipment     10999 non-null  object\n",
      " 3   Customer_care_calls  10999 non-null  int64 \n",
      " 4   Customer_rating      10999 non-null  int64 \n",
      " 5   Cost_of_the_Product  10999 non-null  int64 \n",
      " 6   Prior_purchases      10999 non-null  int64 \n",
      " 7   Product_importance   10999 non-null  object\n",
      " 8   Gender               10999 non-null  object\n",
      " 9   Discount_offered     10999 non-null  int64 \n",
      " 10  Weight_in_gms        10999 non-null  int64 \n",
      " 11  Reached.on.Time_Y.N  10999 non-null  int64 \n",
      "dtypes: int64(8), object(4)\n",
      "memory usage: 1.0+ MB\n"
     ]
    }
   ],
   "source": [
    "# Check on data info()\n",
    "df.info()"
   ]
  },
  {
   "cell_type": "markdown",
   "metadata": {},
   "source": [
    "### *Observations*\n",
    "\n",
    "* The dataset has 1099 rows and 12 columns,\n",
    "* It has 8 numerical features and 4 object features, however the target variable dtype indicates int64 but actually is categorical,\n",
    "* Has equal number of non_null counts in all columns, indicates that there are no missing values(for further investigation)"
   ]
  },
  {
   "cell_type": "markdown",
   "metadata": {},
   "source": [
    "# 3.2 Redefining Problem Statement"
   ]
  },
  {
   "cell_type": "markdown",
   "metadata": {},
   "source": [
    "\n",
    "The e-commerce company has aggregated a lot of shipping data regarding the shipment of its products. The company would like to use these shipping data insights to further improve its logistics, customer satisfaction, and operational efficiency. The company is poorly positioned to understand the key performance indicators on shipping, predict correct delivery times, and hence optimize resources. The company must unlock actionable insights from its shipping data in order to make informed business decisions regarding shipping strategies and customer service.\n",
    "### Objectives:\n",
    "1. *Analyze and optimize shipping performance:* Identify factors influencing shipping delays.\n",
    "\n",
    "2. *Improved customer satisfaction:* Establishment of areas for improvement regarding customer satisfaction, for example, to make the delivery faster or provide more reliable delivery windows.\n",
    "\n",
    "3. *Reduce cost of shipping:* Explore data patterns to identify opportunities for reducing shipping costs without compromising delivery speed or customer satisfaction. Discounting to incentivize sales is a cost to the company.\n",
    "\n",
    "4. *Predict delivery times:* Develop predictive models to accurately forecast delivery times based on historical shipping data.\n"
   ]
  },
  {
   "cell_type": "markdown",
   "metadata": {},
   "source": [
    "### Key Questions:\n",
    "\n",
    "1. What are the key determinants of shipping delays?\n",
    "* What variables (e.g., source location, shipping method, order volumes, etc.) have the largest impact on the timeliness of deliveries?\n",
    "2. How do customer demographics and product preferences influence the delivery experience?\n",
    "* What various customer ratings and their product preferences affect delivery times?\n",
    "3. How can we minimize our shipping cost without compromising any service level?\n",
    "* Which is the most cost-effective shipment method and route?\n",
    "4. How do we forecast the delivery times accurately?\n",
    "* Develop a predictive model and evaluate based on the shipping data."
   ]
  },
  {
   "cell_type": "markdown",
   "metadata": {},
   "source": [
    "# 3.3 Metrics of success\n",
    "\n",
    "This project is deemed successful if findings will enable recommendations on; delay factors,demographic factors affectcting delivery timelines, cost effective shipping modes and routes, and best classification model to deploy for prediction"
   ]
  },
  {
   "cell_type": "markdown",
   "metadata": {},
   "source": [
    "# 4.0 Data Preparation"
   ]
  },
  {
   "cell_type": "markdown",
   "metadata": {},
   "source": [
    "## 4.1 Data Cleaning\n",
    "\n",
    "This phase involves checking on data validity, accuracy, completeness, accuracy, consistency and uniformity. "
   ]
  },
  {
   "cell_type": "markdown",
   "metadata": {},
   "source": [
    "### 4.1.1 Validity check\n",
    "This achieved by checking irrelevant features and removing them or selecting the revelant features"
   ]
  },
  {
   "cell_type": "code",
   "execution_count": 6,
   "metadata": {},
   "outputs": [
    {
     "data": {
      "text/html": [
       "<div>\n",
       "<style scoped>\n",
       "    .dataframe tbody tr th:only-of-type {\n",
       "        vertical-align: middle;\n",
       "    }\n",
       "\n",
       "    .dataframe tbody tr th {\n",
       "        vertical-align: top;\n",
       "    }\n",
       "\n",
       "    .dataframe thead th {\n",
       "        text-align: right;\n",
       "    }\n",
       "</style>\n",
       "<table border=\"1\" class=\"dataframe\">\n",
       "  <thead>\n",
       "    <tr style=\"text-align: right;\">\n",
       "      <th></th>\n",
       "      <th>ID</th>\n",
       "      <th>Warehouse_block</th>\n",
       "      <th>Mode_of_Shipment</th>\n",
       "      <th>Customer_care_calls</th>\n",
       "      <th>Customer_rating</th>\n",
       "      <th>Cost_of_the_Product</th>\n",
       "      <th>Prior_purchases</th>\n",
       "      <th>Product_importance</th>\n",
       "      <th>Gender</th>\n",
       "      <th>Discount_offered</th>\n",
       "      <th>Weight_in_gms</th>\n",
       "      <th>Reached.on.Time_Y.N</th>\n",
       "    </tr>\n",
       "  </thead>\n",
       "  <tbody>\n",
       "    <tr>\n",
       "      <th>0</th>\n",
       "      <td>1</td>\n",
       "      <td>D</td>\n",
       "      <td>Flight</td>\n",
       "      <td>4</td>\n",
       "      <td>2</td>\n",
       "      <td>177</td>\n",
       "      <td>3</td>\n",
       "      <td>low</td>\n",
       "      <td>F</td>\n",
       "      <td>44</td>\n",
       "      <td>1233</td>\n",
       "      <td>1</td>\n",
       "    </tr>\n",
       "    <tr>\n",
       "      <th>1</th>\n",
       "      <td>2</td>\n",
       "      <td>F</td>\n",
       "      <td>Flight</td>\n",
       "      <td>4</td>\n",
       "      <td>5</td>\n",
       "      <td>216</td>\n",
       "      <td>2</td>\n",
       "      <td>low</td>\n",
       "      <td>M</td>\n",
       "      <td>59</td>\n",
       "      <td>3088</td>\n",
       "      <td>1</td>\n",
       "    </tr>\n",
       "    <tr>\n",
       "      <th>2</th>\n",
       "      <td>3</td>\n",
       "      <td>A</td>\n",
       "      <td>Flight</td>\n",
       "      <td>2</td>\n",
       "      <td>2</td>\n",
       "      <td>183</td>\n",
       "      <td>4</td>\n",
       "      <td>low</td>\n",
       "      <td>M</td>\n",
       "      <td>48</td>\n",
       "      <td>3374</td>\n",
       "      <td>1</td>\n",
       "    </tr>\n",
       "  </tbody>\n",
       "</table>\n",
       "</div>"
      ],
      "text/plain": [
       "   ID Warehouse_block Mode_of_Shipment  Customer_care_calls  Customer_rating  \\\n",
       "0   1               D           Flight                    4                2   \n",
       "1   2               F           Flight                    4                5   \n",
       "2   3               A           Flight                    2                2   \n",
       "\n",
       "   Cost_of_the_Product  Prior_purchases Product_importance Gender  \\\n",
       "0                  177                3                low      F   \n",
       "1                  216                2                low      M   \n",
       "2                  183                4                low      M   \n",
       "\n",
       "   Discount_offered  Weight_in_gms  Reached.on.Time_Y.N  \n",
       "0                44           1233                    1  \n",
       "1                59           3088                    1  \n",
       "2                48           3374                    1  "
      ]
     },
     "execution_count": 6,
     "metadata": {},
     "output_type": "execute_result"
    }
   ],
   "source": [
    "#Perform validity check on data files\n",
    "df.head(3)"
   ]
  },
  {
   "cell_type": "markdown",
   "metadata": {},
   "source": [
    "### *Observation*\n",
    "\n",
    "We may not need ID columns and thus drop it"
   ]
  },
  {
   "cell_type": "code",
   "execution_count": 7,
   "metadata": {},
   "outputs": [
    {
     "data": {
      "text/html": [
       "<div>\n",
       "<style scoped>\n",
       "    .dataframe tbody tr th:only-of-type {\n",
       "        vertical-align: middle;\n",
       "    }\n",
       "\n",
       "    .dataframe tbody tr th {\n",
       "        vertical-align: top;\n",
       "    }\n",
       "\n",
       "    .dataframe thead th {\n",
       "        text-align: right;\n",
       "    }\n",
       "</style>\n",
       "<table border=\"1\" class=\"dataframe\">\n",
       "  <thead>\n",
       "    <tr style=\"text-align: right;\">\n",
       "      <th></th>\n",
       "      <th>Warehouse_block</th>\n",
       "      <th>Mode_of_Shipment</th>\n",
       "      <th>Customer_care_calls</th>\n",
       "      <th>Customer_rating</th>\n",
       "      <th>Cost_of_the_Product</th>\n",
       "      <th>Prior_purchases</th>\n",
       "      <th>Product_importance</th>\n",
       "      <th>Gender</th>\n",
       "      <th>Discount_offered</th>\n",
       "      <th>Weight_in_gms</th>\n",
       "      <th>Reached.on.Time_Y.N</th>\n",
       "    </tr>\n",
       "  </thead>\n",
       "  <tbody>\n",
       "    <tr>\n",
       "      <th>0</th>\n",
       "      <td>D</td>\n",
       "      <td>Flight</td>\n",
       "      <td>4</td>\n",
       "      <td>2</td>\n",
       "      <td>177</td>\n",
       "      <td>3</td>\n",
       "      <td>low</td>\n",
       "      <td>F</td>\n",
       "      <td>44</td>\n",
       "      <td>1233</td>\n",
       "      <td>1</td>\n",
       "    </tr>\n",
       "    <tr>\n",
       "      <th>1</th>\n",
       "      <td>F</td>\n",
       "      <td>Flight</td>\n",
       "      <td>4</td>\n",
       "      <td>5</td>\n",
       "      <td>216</td>\n",
       "      <td>2</td>\n",
       "      <td>low</td>\n",
       "      <td>M</td>\n",
       "      <td>59</td>\n",
       "      <td>3088</td>\n",
       "      <td>1</td>\n",
       "    </tr>\n",
       "    <tr>\n",
       "      <th>2</th>\n",
       "      <td>A</td>\n",
       "      <td>Flight</td>\n",
       "      <td>2</td>\n",
       "      <td>2</td>\n",
       "      <td>183</td>\n",
       "      <td>4</td>\n",
       "      <td>low</td>\n",
       "      <td>M</td>\n",
       "      <td>48</td>\n",
       "      <td>3374</td>\n",
       "      <td>1</td>\n",
       "    </tr>\n",
       "  </tbody>\n",
       "</table>\n",
       "</div>"
      ],
      "text/plain": [
       "  Warehouse_block Mode_of_Shipment  Customer_care_calls  Customer_rating  \\\n",
       "0               D           Flight                    4                2   \n",
       "1               F           Flight                    4                5   \n",
       "2               A           Flight                    2                2   \n",
       "\n",
       "   Cost_of_the_Product  Prior_purchases Product_importance Gender  \\\n",
       "0                  177                3                low      F   \n",
       "1                  216                2                low      M   \n",
       "2                  183                4                low      M   \n",
       "\n",
       "   Discount_offered  Weight_in_gms  Reached.on.Time_Y.N  \n",
       "0                44           1233                    1  \n",
       "1                59           3088                    1  \n",
       "2                48           3374                    1  "
      ]
     },
     "execution_count": 7,
     "metadata": {},
     "output_type": "execute_result"
    }
   ],
   "source": [
    "#Dropping ID column\n",
    "df = df.drop('ID',axis=1)\n",
    "df.head(3)"
   ]
  },
  {
   "cell_type": "markdown",
   "metadata": {},
   "source": [
    "### 4.1.2 Data completeness\n",
    "Checking for missing values and treating them. Missing values are either dropped/deleted if by so doing do not significantly impact on the clean dataset, or values imputed."
   ]
  },
  {
   "cell_type": "code",
   "execution_count": 8,
   "metadata": {},
   "outputs": [
    {
     "data": {
      "text/plain": [
       "Warehouse_block        0\n",
       "Mode_of_Shipment       0\n",
       "Customer_care_calls    0\n",
       "Customer_rating        0\n",
       "Cost_of_the_Product    0\n",
       "Prior_purchases        0\n",
       "Product_importance     0\n",
       "Gender                 0\n",
       "Discount_offered       0\n",
       "Weight_in_gms          0\n",
       "Reached.on.Time_Y.N    0\n",
       "dtype: int64"
      ]
     },
     "execution_count": 8,
     "metadata": {},
     "output_type": "execute_result"
    }
   ],
   "source": [
    "#Checking for missing values\n",
    "df.isna().sum()"
   ]
  },
  {
   "cell_type": "markdown",
   "metadata": {},
   "source": [
    "### *Observation*\n",
    "There are no missing values"
   ]
  },
  {
   "cell_type": "markdown",
   "metadata": {},
   "source": [
    "### 4.1.3 Data accuracy\n",
    "Checking for outlier values in the data that distorts its accuracy. This is mitigated by drop/removing outliers"
   ]
  },
  {
   "cell_type": "code",
   "execution_count": 9,
   "metadata": {},
   "outputs": [
    {
     "data": {
      "image/png": "[encoded data removed]",
      "text/plain": [
       "<Figure size 720x432 with 1 Axes>"
      ]
     },
     "metadata": {
      "needs_background": "light"
     },
     "output_type": "display_data"
    },
    {
     "data": {
      "image/png": "[encoded data removed]",
      "text/plain": [
       "<Figure size 720x432 with 1 Axes>"
      ]
     },
     "metadata": {
      "needs_background": "light"
     },
     "output_type": "display_data"
    },
    {
     "data": {
      "image/png": "[encoded data removed]",
      "text/plain": [
       "<Figure size 720x432 with 1 Axes>"
      ]
     },
     "metadata": {
      "needs_background": "light"
     },
     "output_type": "display_data"
    },
    {
     "data": {
      "image/png": "[encoded data removed]",
      "text/plain": [
       "<Figure size 720x432 with 1 Axes>"
      ]
     },
     "metadata": {
      "needs_background": "light"
     },
     "output_type": "display_data"
    },
    {
     "data": {
      "image/png": "[encoded data removed]",
      "text/plain": [
       "<Figure size 720x432 with 1 Axes>"
      ]
     },
     "metadata": {
      "needs_background": "light"
     },
     "output_type": "display_data"
    },
    {
     "data": {
      "image/png": "[encoded data removed]",
      "text/plain": [
       "<Figure size 720x432 with 1 Axes>"
      ]
     },
     "metadata": {
      "needs_background": "light"
     },
     "output_type": "display_data"
    },
    {
     "data": {
      "image/png": "[encoded data removed]",
      "text/plain": [
       "<Figure size 720x432 with 1 Axes>"
      ]
     },
     "metadata": {
      "needs_background": "light"
     },
     "output_type": "display_data"
    }
   ],
   "source": [
    "# Check for ouliers\n",
    "num_features = df.select_dtypes(include='int64').columns\n",
    "\n",
    "for feature in num_features:\n",
    "    plt.figure(figsize= (10,6))\n",
    "    sns.boxplot(x=df[feature])\n",
    "\n",
    "    plt.title(f'Boxplot of {feature} Outliers'.title(), size=14, color='blue', weight='bold')\n",
    "    plt.xlabel(feature.title(), size=14, color='blue', weight='bold')\n",
    "    plt.show();"
   ]
  },
  {
   "cell_type": "markdown",
   "metadata": {},
   "source": [
    "### 4.1.4 Data consistency\n",
    "Consistency is achieved through removal of duplicates in the dataframe"
   ]
  },
  {
   "cell_type": "code",
   "execution_count": 10,
   "metadata": {},
   "outputs": [
    {
     "data": {
      "text/plain": [
       "0"
      ]
     },
     "execution_count": 10,
     "metadata": {},
     "output_type": "execute_result"
    }
   ],
   "source": [
    "#Check for duplicates\n",
    "df.duplicated().sum()"
   ]
  },
  {
   "cell_type": "markdown",
   "metadata": {},
   "source": [
    "### *Observation*\n",
    "\n",
    "There are no duplicates in the data set"
   ]
  },
  {
   "cell_type": "markdown",
   "metadata": {},
   "source": [
    "### 4.1.5 Data Uniformity\n",
    "Involves feature engineering"
   ]
  },
  {
   "cell_type": "code",
   "execution_count": 11,
   "metadata": {},
   "outputs": [
    {
     "data": {
      "text/html": [
       "<div>\n",
       "<style scoped>\n",
       "    .dataframe tbody tr th:only-of-type {\n",
       "        vertical-align: middle;\n",
       "    }\n",
       "\n",
       "    .dataframe tbody tr th {\n",
       "        vertical-align: top;\n",
       "    }\n",
       "\n",
       "    .dataframe thead th {\n",
       "        text-align: right;\n",
       "    }\n",
       "</style>\n",
       "<table border=\"1\" class=\"dataframe\">\n",
       "  <thead>\n",
       "    <tr style=\"text-align: right;\">\n",
       "      <th></th>\n",
       "      <th>warehouse_block</th>\n",
       "      <th>mode_of_shipment</th>\n",
       "      <th>customer_care_calls</th>\n",
       "      <th>customer_rating</th>\n",
       "      <th>cost_of_the_product</th>\n",
       "      <th>prior_purchases</th>\n",
       "      <th>product_importance</th>\n",
       "      <th>gender</th>\n",
       "      <th>discount_offered</th>\n",
       "      <th>weight_in_gms</th>\n",
       "      <th>reached.on.time_y.n</th>\n",
       "    </tr>\n",
       "  </thead>\n",
       "  <tbody>\n",
       "    <tr>\n",
       "      <th>0</th>\n",
       "      <td>D</td>\n",
       "      <td>Flight</td>\n",
       "      <td>4</td>\n",
       "      <td>2</td>\n",
       "      <td>177</td>\n",
       "      <td>3</td>\n",
       "      <td>low</td>\n",
       "      <td>F</td>\n",
       "      <td>44</td>\n",
       "      <td>1233</td>\n",
       "      <td>1</td>\n",
       "    </tr>\n",
       "    <tr>\n",
       "      <th>1</th>\n",
       "      <td>F</td>\n",
       "      <td>Flight</td>\n",
       "      <td>4</td>\n",
       "      <td>5</td>\n",
       "      <td>216</td>\n",
       "      <td>2</td>\n",
       "      <td>low</td>\n",
       "      <td>M</td>\n",
       "      <td>59</td>\n",
       "      <td>3088</td>\n",
       "      <td>1</td>\n",
       "    </tr>\n",
       "    <tr>\n",
       "      <th>2</th>\n",
       "      <td>A</td>\n",
       "      <td>Flight</td>\n",
       "      <td>2</td>\n",
       "      <td>2</td>\n",
       "      <td>183</td>\n",
       "      <td>4</td>\n",
       "      <td>low</td>\n",
       "      <td>M</td>\n",
       "      <td>48</td>\n",
       "      <td>3374</td>\n",
       "      <td>1</td>\n",
       "    </tr>\n",
       "    <tr>\n",
       "      <th>3</th>\n",
       "      <td>B</td>\n",
       "      <td>Flight</td>\n",
       "      <td>3</td>\n",
       "      <td>3</td>\n",
       "      <td>176</td>\n",
       "      <td>4</td>\n",
       "      <td>medium</td>\n",
       "      <td>M</td>\n",
       "      <td>10</td>\n",
       "      <td>1177</td>\n",
       "      <td>1</td>\n",
       "    </tr>\n",
       "    <tr>\n",
       "      <th>4</th>\n",
       "      <td>C</td>\n",
       "      <td>Flight</td>\n",
       "      <td>2</td>\n",
       "      <td>2</td>\n",
       "      <td>184</td>\n",
       "      <td>3</td>\n",
       "      <td>medium</td>\n",
       "      <td>F</td>\n",
       "      <td>46</td>\n",
       "      <td>2484</td>\n",
       "      <td>1</td>\n",
       "    </tr>\n",
       "  </tbody>\n",
       "</table>\n",
       "</div>"
      ],
      "text/plain": [
       "  warehouse_block mode_of_shipment  customer_care_calls  customer_rating  \\\n",
       "0               D           Flight                    4                2   \n",
       "1               F           Flight                    4                5   \n",
       "2               A           Flight                    2                2   \n",
       "3               B           Flight                    3                3   \n",
       "4               C           Flight                    2                2   \n",
       "\n",
       "   cost_of_the_product  prior_purchases product_importance gender  \\\n",
       "0                  177                3                low      F   \n",
       "1                  216                2                low      M   \n",
       "2                  183                4                low      M   \n",
       "3                  176                4             medium      M   \n",
       "4                  184                3             medium      F   \n",
       "\n",
       "   discount_offered  weight_in_gms  reached.on.time_y.n  \n",
       "0                44           1233                    1  \n",
       "1                59           3088                    1  \n",
       "2                48           3374                    1  \n",
       "3                10           1177                    1  \n",
       "4                46           2484                    1  "
      ]
     },
     "execution_count": 11,
     "metadata": {},
     "output_type": "execute_result"
    }
   ],
   "source": [
    "#Clean the column titles by stripping leading/trailing spaces and converting to lowercase\n",
    "df.columns = df.columns.str.strip().str.lower()\n",
    "df.head()"
   ]
  },
  {
   "cell_type": "markdown",
   "metadata": {},
   "source": [
    "# 5.0 Exploratory Data Analysis(EDA)\n",
    "\n",
    "This is the process of analyzing data to reveal trends and patterns, detect anomalies, test hypotheses and check assumptions using visuals and summary statistics.Turkey,J.W(1977)\n",
    "\n",
    "**Key goals of EDA include:**\n",
    "\n",
    "* Understanding the data: Getting a sense of the data's distribution, range, and central tendencies. \n",
    "* Identifying patterns: Discovering trends, correlations, or anomalies within the data. \n",
    "* Checking assumptions: Verifying assumptions made about the data before further analysis or modeling. \n",
    "* Generating hypotheses: Developing potential explanations or questions based on the findings."
   ]
  },
  {
   "cell_type": "markdown",
   "metadata": {},
   "source": [
    "# 5.1 Univariate Analysis\n",
    "\n",
    "Univariate analysis examination of single variable distribution and measures of central tendency. Objective of this analysis is to identify patterns, trends, and outliers.\n",
    "\n",
    "Count plots,bar charts, and pie charts are used to visually represent categorical data, while histogram and boxplots are used to visualize numerical data."
   ]
  },
  {
   "cell_type": "code",
   "execution_count": 12,
   "metadata": {},
   "outputs": [
    {
     "data": {
      "image/png": "[encoded data removed]",
      "text/plain": [
       "<Figure size 432x432 with 1 Axes>"
      ]
     },
     "metadata": {
      "needs_background": "light"
     },
     "output_type": "display_data"
    }
   ],
   "source": [
    "# Analysis of single variable distributions\n",
    "# Creating the count plot for the 'warehouse_block' column\n",
    "plt.figure(figsize=(6, 6)) \n",
    "sns.countplot(x='warehouse_block', data=df, palette='viridis')\n",
    "\n",
    "# Adding title and labels \n",
    "plt.title('Count Plot of Warehouse Blocks',size=14, color='blue', weight='bold')\n",
    "plt.xlabel('Warehouse Block', size=12, color='blue', weight='bold')\n",
    "plt.ylabel('Count',size=14, color='blue', weight='bold')\n",
    "\n",
    "# Display the plot\n",
    "plt.show()"
   ]
  },
  {
   "cell_type": "code",
   "execution_count": 13,
   "metadata": {},
   "outputs": [
    {
     "data": {
      "text/plain": [
       "<Figure size 432x288 with 0 Axes>"
      ]
     },
     "metadata": {},
     "output_type": "display_data"
    }
   ],
   "source": [
    "#Visualize distributions for the selected columns\n",
    "# Create a function for count plot in grid layout\n",
    "def countplot_grid(data, selected_columns, ncols):\n",
    "\n",
    "    # Calculate the number of rows and columns for the grid\n",
    "    ncols = ncols # Number of columns\n",
    "    nrows = (len(select_cols) + ncols - 1) // ncols # Number of rows\n",
    "    # Create a grid of subplots\n",
    "    fig, axes = plt.subplots(nrows=nrows, ncols=ncols, figsize=(14, 5 * nrows))\n",
    "\n",
    "    # Flatten the axes array for easy indexing\n",
    "    axes = axes.flatten()\n",
    "\n",
    "    # Loop over the selected columns and create a countplot on each subplot\n",
    "    for i, column in enumerate(selected_columns):\n",
    "        sns.countplot(x=column, data=data, ax=axes[i], palette= 'Blues')\n",
    "\n",
    "        # Add title and labels\n",
    "        axes[i].set_title(f'{column} Distribution', size=14, color='blue', weight='bold')\n",
    "        axes[i].set_xlabel(column.title(), size=12, color='blue', weight='bold')\n",
    "        axes[i].set_ylabel('Count', size=12, color='blue', weight='bold')\n",
    "        # Rotate x-axis labels\n",
    "        axes[i].tick_params(axis='x', rotation=90)\n",
    "        # Hide any extra axes if the number of columns is less than the grid size\n",
    "    for j in range(len(selected_columns), len(axes)):\n",
    "        axes[j].axis('off')\n",
    "\n",
    "# Adjust layout to avoid overlapping\n",
    "plt.tight_layout()\n",
    "\n",
    "plt.show()"
   ]
  },
  {
   "cell_type": "code",
   "execution_count": 14,
   "metadata": {},
   "outputs": [
    {
     "data": {
      "image/png": "[encoded data removed]",
      "text/plain": [
       "<Figure size 1008x720 with 6 Axes>"
      ]
     },
     "metadata": {
      "needs_background": "light"
     },
     "output_type": "display_data"
    }
   ],
   "source": [
    "#Select columns to visualize using count plot\n",
    "select_cols =['warehouse_block','mode_of_shipment', 'customer_rating','product_importance','gender','reached.on.time_y.n']\n",
    "#Count plot for the selected columns\n",
    "countplot_grid(data=df, selected_columns=select_cols, ncols=3)"
   ]
  },
  {
   "cell_type": "markdown",
   "metadata": {},
   "source": [
    "### *General Observations*\n",
    "* *Warehouse block:* It appears the company does more dispatches through block F than other blocks\n",
    "* *Mode of shipment:* The company moves more shipments through the ship(by sea), this can be explained by the fact that haulage capacity of ship is higher.\n",
    "* *Customer rating:* The company deliveries received average ratings in all levels\n",
    "* *Product importance:* Company dispatched more shipments of low importance, followed by medium and high respectively\n",
    "* *Gender:* Generally the company serviced orders from both genders which were more or less at bar\n",
    "* *Reached on Time:* Company was able to deliver more orders on time than delayed."
   ]
  },
  {
   "cell_type": "code",
   "execution_count": 15,
   "metadata": {},
   "outputs": [
    {
     "data": {
      "image/png": "[encoded data removed]",
      "text/plain": [
       "<Figure size 432x288 with 1 Axes>"
      ]
     },
     "metadata": {
      "needs_background": "light"
     },
     "output_type": "display_data"
    }
   ],
   "source": [
    "#Histogram plot of cost of the product variable\n",
    "sns.histplot(df['cost_of_the_product'], kde=True, bins='auto',palette= 'viridis')\n",
    "#labels and title\n",
    "plt.xlabel('Cost of the Product',size=14, color='blue', weight='bold')\n",
    "plt.ylabel('Frequency', size=12, color='blue', weight='bold')\n",
    "plt.title('Distribution of Product Costs', size=12, color='blue', weight='bold')\n",
    "plt.show()"
   ]
  },
  {
   "cell_type": "markdown",
   "metadata": {},
   "source": [
    "### *Observations*\n",
    "\n",
    "The distribution of cost of the product feature exhibits bi-modal kind of distribution with most products averagely costing around 250 usd."
   ]
  },
  {
   "cell_type": "markdown",
   "metadata": {},
   "source": [
    "### Quiz 1. What are the key determinants of shipping delays?\n",
    "\n",
    "To effectively answer the above, the data needs to be subset into 'On Time' and 'Delayed' and focus the later."
   ]
  },
  {
   "cell_type": "code",
   "execution_count": 16,
   "metadata": {},
   "outputs": [
    {
     "data": {
      "image/png": "[encoded data removed]",
      "text/plain": [
       "<Figure size 1008x1080 with 6 Axes>"
      ]
     },
     "metadata": {
      "needs_background": "light"
     },
     "output_type": "display_data"
    }
   ],
   "source": [
    "#Subset delayed from df dataset\n",
    "delayed = df[df[\"reached.on.time_y.n\"]==0].copy()\n",
    "\n",
    "#Selected columns\n",
    "select_delay_columns = ['warehouse_block','mode_of_shipment','product_importance','gender']\n",
    "\n",
    "#Count plot for the selected features of delayed subset\n",
    "countplot_grid(data=delayed, selected_columns=select_delay_columns, ncols=2)\n"
   ]
  },
  {
   "cell_type": "markdown",
   "metadata": {},
   "source": [
    "### *Observations:*\n",
    "\n",
    "The factors that highly contributed to the delay in delivery timelines included;\n",
    "* *Warehouse block,* majority of the dispatches that ended up being delayed originated fro block F\n",
    "* *Mode of shipment,* movement of shipment by sea(ship) resulted in delays; possibly due to speed of ships which is lower.\n",
    "* *Product importance,* product categories of low and medium shipped/ordered delayed\n",
    "* *Gender,* there seem to be no much difference on shipments delivered off-time potrayed by either gender"
   ]
  },
  {
   "cell_type": "markdown",
   "metadata": {},
   "source": [
    "# 5.2 Bivariate Analysis\n",
    "\n",
    "This is the analysis of data to identify patterns, trends, and correlations of two variables in a given dataset. This can be achieved by use of bar plots, scatter plots, correlation coefficient and regression analysis"
   ]
  },
  {
   "cell_type": "markdown",
   "metadata": {},
   "source": [
    "### Quiz 2.  How do customer demographics and product preferences influence the delivery experience?\n",
    "* What various customer ratings and their product preferences affect delivery times?"
   ]
  },
  {
   "cell_type": "code",
   "execution_count": 17,
   "metadata": {},
   "outputs": [
    {
     "data": {
      "image/png": "[encoded data removed]",
      "text/plain": [
       "<Figure size 1152x432 with 2 Axes>"
      ]
     },
     "metadata": {
      "needs_background": "light"
     },
     "output_type": "display_data"
    }
   ],
   "source": [
    "#Subset dataset on prior purchases and customer ratings and groupby delivery time and gender\n",
    "grouped_purchases = df.groupby(['reached.on.time_y.n', 'gender'])['prior_purchases'].sum().reset_index()\n",
    "grouped_purchases.sort_values(by='gender')\n",
    "\n",
    "grouped_ratings = df.groupby(['reached.on.time_y.n', 'gender'])['customer_rating'].sum().reset_index()\n",
    "grouped_ratings.sort_values(by='gender')\n",
    "\n",
    "#Visualization of the relationships of variables in grouped subset\n",
    "fig, axes = plt.subplots(1, 2, figsize=(16, 6))\n",
    "\n",
    "# Plot of Prior Purchases\n",
    "sns.barplot(data=grouped_purchases, x='reached.on.time_y.n', y='prior_purchases', hue='gender', ax=axes[0], palette='viridis')\n",
    "axes[0].set_title('Total Prior Purchases by Reached On Time and Gender',size=14, color='blue', weight='bold')\n",
    "axes[0].set_xlabel('Reached On Time',size=12, color='blue', weight='bold')\n",
    "axes[0].set_ylabel('Total Prior Purchases (preference)',size=12, color='blue', weight='bold')\n",
    "\n",
    "# Plot of Customer Ratings\n",
    "sns.barplot(data=grouped_ratings, x='reached.on.time_y.n', y='customer_rating', hue='gender', ax=axes[1], palette='viridis')\n",
    "axes[1].set_title('Total Customer Rating by Reached On Time and Gender',size=14, color='blue', weight='bold')\n",
    "axes[1].set_xlabel('Reached On Time',size=12, color='blue', weight='bold')\n",
    "axes[1].set_ylabel('Total Customer Rating',size=12, color='blue', weight='bold')\n",
    "\n",
    "# Adjust layout \n",
    "plt.tight_layout()\n",
    "plt.show()"
   ]
  },
  {
   "cell_type": "markdown",
   "metadata": {},
   "source": [
    "### *Observations*\n",
    "* Both genders exhibit same trend on levels of prior puchases and ratings, though females seem to have made sligthly more purchases than males. \n",
    "* The higher the customer ratings and prior purchases(product preferences) for both genders led to delivery on time.\n",
    "* Higher customer preference and ratings possibly is as a result of being satisfied with delivery service.\n"
   ]
  },
  {
   "cell_type": "markdown",
   "metadata": {},
   "source": [
    "# 5.3 Multivariate Analysis\n",
    "\n",
    "Multivariate analysis is a statistical technique used to describe and summarize patterns, trends, and correlations between three or more variables. It is achieved by deployement of various analysis techniques such as ;\n",
    "\n",
    "* Multiple regression analysis\n",
    "\n",
    "* Factor analysis\n",
    "\n",
    "* Cluster analysis\n",
    "\n",
    "* Discriminant analysis"
   ]
  },
  {
   "cell_type": "markdown",
   "metadata": {},
   "source": [
    "### Quiz 3. How can we minimize our shipping cost without compromising any service level?\n",
    "* Which is the most cost-effective shipment method and route?"
   ]
  },
  {
   "cell_type": "markdown",
   "metadata": {},
   "source": [
    "The effectively answer, the dataset is subset to those deliveries that were 'on time' and focus on the shipping mode and routes(warehouse block) where the discount offered(cost to the company) is lowest."
   ]
  },
  {
   "cell_type": "code",
   "execution_count": 18,
   "metadata": {},
   "outputs": [
    {
     "data": {
      "image/png": "[encoded data removed]",
      "text/plain": [
       "<Figure size 720x432 with 1 Axes>"
      ]
     },
     "metadata": {
      "needs_background": "light"
     },
     "output_type": "display_data"
    },
    {
     "name": "stdout",
     "output_type": "stream",
     "text": [
      "Warehouse Block: D, Mode of Shipment: Road\n",
      "Warehouse Block: B, Mode of Shipment: Flight\n",
      "Warehouse Block: D, Mode of Shipment: Flight\n"
     ]
    }
   ],
   "source": [
    "#Subset dataset where 'reached.on.time_y.n'==1; reachead on-time\n",
    "on_time = df[df['reached.on.time_y.n']==1]\n",
    "\n",
    "#Engineer cost per order feature(discount_offered / weight_in_gms)\n",
    "on_time[\"cost_per_order\"] = on_time['discount_offered'] / on_time['weight_in_gms']\n",
    "\n",
    "#Groupby Mode of shipping and warehouse block where cost per order is the least.\n",
    "grouped_on_time = on_time.groupby(['warehouse_block', 'mode_of_shipment'])['cost_per_order'].sum().reset_index()\n",
    "sorted_grouped_on_time = grouped_on_time.sort_values(by=\"cost_per_order\", ascending=True)\n",
    "\n",
    "#Visualization using barplot\n",
    "plt.figure(figsize=(10, 6))\n",
    "sns.barplot(data=sorted_grouped_on_time, x='warehouse_block', y='cost_per_order', hue='mode_of_shipment', palette='viridis')\n",
    "\n",
    "# Add labels and title\n",
    "plt.title('Total least Cost_Per_Order by Mode of Shipment and Warehouse Block', fontsize=14, color=\"blue\", weight='bold')\n",
    "plt.xlabel('Warehouse', fontsize=12, color=\"blue\", weight='bold')\n",
    "plt.ylabel('Total Least Cost_per_Order', fontsize=12, color=\"blue\", weight='bold')\n",
    "plt.show()\n",
    "\n",
    "#Top three(3)cost effective routes\n",
    "top_3_routes = sorted_grouped_on_time.head(3)\n",
    "#Loop over to print out the top three for visualization\n",
    "for index, row in top_3_routes.iterrows():\n",
    "    print(f\"Warehouse Block: {row['warehouse_block']}, Mode of Shipment: {row['mode_of_shipment']}\")"
   ]
  },
  {
   "cell_type": "markdown",
   "metadata": {},
   "source": [
    "### *Observations*\n",
    "* Shipment by Road and Flight are generally the cost effective modes of shipment where the company incurred the least rate in incentizing sale.\n",
    "* Cost effective routes is by shipment through all warehouse blocks except block F\n",
    "* The top three cost effective routes is shipping through block D by Road, block B by Flight and block D by Flight respectively."
   ]
  },
  {
   "cell_type": "markdown",
   "metadata": {},
   "source": [
    "# 6.0 Modelling"
   ]
  },
  {
   "cell_type": "markdown",
   "metadata": {},
   "source": [
    "### Quiz 4. How do we forecast the delivery times accurately?\n",
    "* Develop a predictive model and evaluate based on the shipping data."
   ]
  },
  {
   "cell_type": "markdown",
   "metadata": {},
   "source": [
    "### Loading required libraries and preprocessing"
   ]
  },
  {
   "cell_type": "code",
   "execution_count": 19,
   "metadata": {},
   "outputs": [],
   "source": [
    "from sklearn.model_selection import train_test_split\n",
    "from sklearn.linear_model import LogisticRegression\n",
    "from sklearn.metrics import mean_squared_error,roc_auc_score,roc_curve,accuracy_score,auc,precision_score, recall_score, f1_score\n",
    "from sklearn.preprocessing import OneHotEncoder,StandardScaler\n",
    "from sklearn.ensemble import RandomForestClassifier\n",
    "from sklearn.tree import DecisionTreeClassifier"
   ]
  },
  {
   "cell_type": "markdown",
   "metadata": {},
   "source": [
    "### Preprocessing of dataset; perform transformations for modelling"
   ]
  },
  {
   "cell_type": "code",
   "execution_count": 20,
   "metadata": {},
   "outputs": [],
   "source": [
    "#Transform categorical features using onehotencode\n",
    "df_encoded = pd.get_dummies(df, drop_first=True, dtype=float)\n",
    "\n",
    "#Predictors and target variables\n",
    "X = df_encoded.drop(['reached.on.time_y.n'], axis=1)\n",
    "y = df_encoded['reached.on.time_y.n']\n",
    "\n",
    "# Train/test split\n",
    "X_train, X_test, y_train, y_test = train_test_split(X, y, test_size=0.3, random_state=42)"
   ]
  },
  {
   "cell_type": "markdown",
   "metadata": {},
   "source": [
    "### Base model:\n",
    "\n",
    "Logistic Regression Model"
   ]
  },
  {
   "cell_type": "code",
   "execution_count": 21,
   "metadata": {},
   "outputs": [
    {
     "name": "stdout",
     "output_type": "stream",
     "text": [
      "Accuracy: 63.52%\n",
      "Mean Squared Error: 0.3648\n",
      "AUC: 0.71\n"
     ]
    }
   ],
   "source": [
    "#Vanilla logistic regression model\n",
    "# Initialize the Logistic Regression model\n",
    "model = LogisticRegression()\n",
    "\n",
    "# Train the model\n",
    "model.fit(X_train, y_train)\n",
    "\n",
    "# Make predictions on the test set\n",
    "y_pred = model.predict(X_test)\n",
    "\n",
    "# Evaluate the model\n",
    "accuracy = accuracy_score(y_test, y_pred)\n",
    "print(f\"Accuracy: {accuracy * 100:.2f}%\")\n",
    "mse = mean_squared_error(y_test, y_pred)\n",
    "print(f\"Mean Squared Error: {mse:.4f}\")\n",
    "# Get the predicted probabilities for the positive class\n",
    "y_prob = model.predict_proba(X_test)[:, 1]\n",
    "# Calculate ROC Curve\n",
    "fpr, tpr, thresholds = roc_curve(y_test, y_prob)\n",
    "\n",
    "# Calculate AUC\n",
    "roc_auc = auc(fpr, tpr)\n",
    "print(f\"AUC: {roc_auc:.2f}\")"
   ]
  },
  {
   "cell_type": "markdown",
   "metadata": {},
   "source": [
    "### *Observation*\n",
    "* The base model performs at an accuracy of 63.52%, with mean squared error 0.36 and area under the curve AUC 0.71\n",
    "* Other models that will out-performs this base model is better and chosen for prediction"
   ]
  },
  {
   "cell_type": "markdown",
   "metadata": {},
   "source": [
    "### Random Forest Model"
   ]
  },
  {
   "cell_type": "code",
   "execution_count": 22,
   "metadata": {},
   "outputs": [
    {
     "name": "stdout",
     "output_type": "stream",
     "text": [
      "Accuracy: 66.06%\n",
      "Mean Squared Error: 0.3394\n",
      "AUC: 0.74\n"
     ]
    }
   ],
   "source": [
    "#Random Forest model\n",
    "# Initialize the Random Forest Classifier\n",
    "rf_model = RandomForestClassifier(n_estimators=100, random_state=42)\n",
    "\n",
    "# Train the model\n",
    "rf_model.fit(X_train, y_train)\n",
    "\n",
    "# Make predictions on the test set\n",
    "y_pred = rf_model.predict(X_test)\n",
    "\n",
    "# Evaluate the model\n",
    "accuracy = accuracy_score(y_test, y_pred)\n",
    "print(f\"Accuracy: {accuracy * 100:.2f}%\")\n",
    "mse = mean_squared_error(y_test, y_pred)\n",
    "print(f\"Mean Squared Error: {mse:.4f}\")\n",
    "# Get the predicted probabilities for the positive class\n",
    "y_prob = rf_model.predict_proba(X_test)[:, 1]\n",
    "# Calculate ROC Curve\n",
    "fpr, tpr, thresholds = roc_curve(y_test, y_prob)\n",
    "\n",
    "# Calculate AUC\n",
    "roc_auc = auc(fpr, tpr)\n",
    "print(f\"AUC: {roc_auc:.2f}\")"
   ]
  },
  {
   "cell_type": "markdown",
   "metadata": {},
   "source": [
    "### *Observations*\n",
    "* The Random Forest model performs at an accuracy of 66.06%, with MSE of 0.34 and AUC of 0.74\n",
    "* This model is performing better than base model-logistic regression model"
   ]
  },
  {
   "cell_type": "markdown",
   "metadata": {},
   "source": [
    "### Decision Tree Model"
   ]
  },
  {
   "cell_type": "code",
   "execution_count": 23,
   "metadata": {},
   "outputs": [
    {
     "name": "stdout",
     "output_type": "stream",
     "text": [
      "Accuracy: 64.76%\n",
      "Mean Squared Error: 0.3524\n",
      "AUC: 0.63\n"
     ]
    }
   ],
   "source": [
    "#Decision Tree model\n",
    "# Initialize the Decision Tree Classifier\n",
    "dt_model = DecisionTreeClassifier(random_state=42)\n",
    "\n",
    "# Train the model\n",
    "dt_model.fit(X_train, y_train)\n",
    "\n",
    "# Make predictions on the test set\n",
    "y_pred = dt_model.predict(X_test)\n",
    "\n",
    "# Evaluate the model\n",
    "accuracy = accuracy_score(y_test, y_pred)\n",
    "print(f\"Accuracy: {accuracy * 100:.2f}%\")\n",
    "mse = mean_squared_error(y_test, y_pred)\n",
    "print(f\"Mean Squared Error: {mse:.4f}\")\n",
    "# Get the predicted probabilities for the positive class\n",
    "y_prob = dt_model.predict_proba(X_test)[:, 1]\n",
    "# Calculate ROC Curve\n",
    "fpr, tpr, thresholds = roc_curve(y_test, y_prob)\n",
    "\n",
    "# Calculate AUC\n",
    "roc_auc = auc(fpr, tpr)\n",
    "print(f\"AUC: {roc_auc:.2f}\")"
   ]
  },
  {
   "cell_type": "markdown",
   "metadata": {},
   "source": [
    "### *Observations*\n",
    "* The Random Forest model performs at an accuracy of 64.76%, with MSE of 0.35 and AUC of 0.63\n",
    "* This model is performing better than base model-logistic regression model but not as good as Random Forest model.\n",
    "* The best model therefore, is Random Forest Model\n",
    "* The models can be further optimized and evaluated"
   ]
  },
  {
   "cell_type": "markdown",
   "metadata": {},
   "source": [
    "## 6.1 Optimized Models\n",
    "\n",
    "### 6.1.1.Standardize data using StandardScaler, re-model and evaluate their performances"
   ]
  },
  {
   "cell_type": "code",
   "execution_count": 24,
   "metadata": {},
   "outputs": [
    {
     "name": "stdout",
     "output_type": "stream",
     "text": [
      "Model Performance Evaluation:\n",
      "\n",
      "Logistic Regression:\n",
      "  Accuracy: 63.64%\n",
      "  MSE: 0.3636\n",
      "  AUC: 71.81%\n",
      "  Precision: 0.7054\n",
      "  Recall: 0.6806\n",
      "  F1 Score: 0.6928\n",
      "\n",
      "Random Forest:\n",
      "  Accuracy: 66.03%\n",
      "  MSE: 0.3397\n",
      "  AUC: 73.67%\n",
      "  Precision: 0.7585\n",
      "  Recall: 0.6398\n",
      "  F1 Score: 0.6941\n",
      "\n",
      "Decision Tree:\n",
      "  Accuracy: 64.58%\n",
      "  MSE: 0.3542\n",
      "  AUC: 62.94%\n",
      "  Precision: 0.7046\n",
      "  Recall: 0.7093\n",
      "  F1 Score: 0.7069\n"
     ]
    }
   ],
   "source": [
    "#Model optimization\n",
    "#Standardize data and compare models\n",
    "# Scaling data using StandardScaler\n",
    "scaler = StandardScaler()\n",
    "X_train_scaled = scaler.fit_transform(X_train)\n",
    "X_test_scaled = scaler.transform(X_test)\n",
    "\n",
    "# Initialize the models\n",
    "dt_model_scaled = DecisionTreeClassifier(random_state=42)\n",
    "rf_model_scaled = RandomForestClassifier(n_estimators=100, random_state=42)\n",
    "lr_model_scaled = LogisticRegression(random_state=42)\n",
    "\n",
    "# Train the models\n",
    "dt_model_scaled.fit(X_train_scaled, y_train)\n",
    "rf_model_scaled.fit(X_train_scaled, y_train)\n",
    "lr_model_scaled.fit(X_train_scaled, y_train)\n",
    "\n",
    "# Evaluate models\n",
    "models = [lr_model_scaled, rf_model_scaled, dt_model_scaled]\n",
    "model_names = [\"Logistic Regression\",\"Random Forest\",\"Decision Tree\"]\n",
    "\n",
    "# Initialize empty dictionaries to store results\n",
    "accuracy_scores = {}\n",
    "mse_scores = {}\n",
    "auc_scores = {}\n",
    "precision_scores = {}\n",
    "recall_scores = {}\n",
    "f1_scores = {}\n",
    "\n",
    "# Loop through each model and evaluate\n",
    "for model, name in zip(models, model_names):\n",
    "    # Make predictions based on scaled data\n",
    "    pred = model.predict(X_test_scaled)\n",
    "    \n",
    "    # Calculate  accuracy of the models\n",
    "    accuracy_scores[name] = accuracy_score(y_test, pred)\n",
    "    \n",
    "    # Calculate mean squared error-mse\n",
    "    mse_scores[name] = mean_squared_error(y_test, pred)\n",
    "    \n",
    "    # Calculate area under the curve (AUC) for classification models\n",
    "    pred_proba = model.predict_proba(X_test_scaled)[:, 1]  # Probability for positive class \n",
    "    auc_scores[name] = roc_auc_score(y_test, pred_proba)\n",
    "    # Calculate Precision\n",
    "    precision_scores[name] = precision_score(y_test, pred)\n",
    "    \n",
    "    # Calculate Recall\n",
    "    recall_scores[name] = recall_score(y_test, pred)\n",
    "    \n",
    "    # Calculate F1 Score\n",
    "    f1_scores[name] = f1_score(y_test, pred)\n",
    "\n",
    "# Print  results\n",
    "print(\"Model Performance Evaluation:\")\n",
    "for name in model_names:\n",
    "    print(f\"\\n{name}:\")\n",
    "    print(f\"  Accuracy: {accuracy_scores[name]* 100:.2f}%\")\n",
    "    print(f\"  MSE: {mse_scores[name]:.4f}\")\n",
    "    print(f\"  AUC: {auc_scores[name]* 100:.2f}%\")\n",
    "    print(f\"  Precision: {precision_scores[name]:.4f}\")\n",
    "    print(f\"  Recall: {recall_scores[name]:.4f}\")\n",
    "    print(f\"  F1 Score: {f1_scores[name]:.4f}\")\n"
   ]
  },
  {
   "cell_type": "markdown",
   "metadata": {},
   "source": [
    "### *Observations*\n",
    "* Standardizing data values do not result in any significant differences in the mode performance"
   ]
  },
  {
   "cell_type": "markdown",
   "metadata": {},
   "source": [
    "### 6.1.2. Hyperparameter Tuning"
   ]
  },
  {
   "cell_type": "code",
   "execution_count": 25,
   "metadata": {},
   "outputs": [
    {
     "name": "stdout",
     "output_type": "stream",
     "text": [
      "Fitting 5 folds for each of 72 candidates, totalling 360 fits\n",
      "Fitting 5 folds for each of 648 candidates, totalling 3240 fits\n",
      "Fitting 5 folds for each of 24 candidates, totalling 120 fits\n",
      "Best parameters for Decision Tree: {'criterion': 'entropy', 'max_depth': 5, 'min_samples_leaf': 1, 'min_samples_split': 2}\n",
      "Best parameters for Random Forest: {'bootstrap': False, 'max_depth': 10, 'max_features': 'sqrt', 'min_samples_leaf': 4, 'min_samples_split': 2, 'n_estimators': 50}\n",
      "Best parameters for Logistic Regression: {'C': 0.1, 'penalty': 'l2', 'solver': 'liblinear'}\n"
     ]
    }
   ],
   "source": [
    "from sklearn.model_selection import GridSearchCV\n",
    "\n",
    "# Define parameter grids for each model\n",
    "dt_param_grid = {\n",
    "     'max_depth': [3, 5, 10, None],\n",
    "     'min_samples_split': [2, 5, 10],\n",
    "     'min_samples_leaf': [1, 2, 4],\n",
    "     'criterion': ['gini', 'entropy']\n",
    "}\n",
    "\n",
    "rf_param_grid = {\n",
    "    'n_estimators': [50, 100, 200],\n",
    "    'max_depth': [None, 10, 20, 30],\n",
    "    'min_samples_split': [2, 5, 10],\n",
    "    'min_samples_leaf': [1, 2, 4],\n",
    "    'max_features': ['auto', 'sqrt', 'log2'],\n",
    "    'bootstrap': [True, False]\n",
    "}\n",
    "\n",
    "lr_param_grid = {\n",
    "     'C': [0.1, 1, 10, 100],\n",
    "     'solver': ['liblinear', 'saga', 'lbfgs'],\n",
    "     'penalty': ['l2', 'l1']\n",
    " }\n",
    "\n",
    "# Initialize GridSearchCV for each model\n",
    "dt_grid_search = GridSearchCV(dt_model_scaled, dt_param_grid, cv=5, n_jobs=-1, verbose=2)\n",
    "rf_grid_search = GridSearchCV(rf_model_scaled, rf_param_grid, cv=5, n_jobs=-1, verbose=2)\n",
    "lr_grid_search = GridSearchCV(lr_model_scaled, lr_param_grid, cv=5, n_jobs=-1, verbose=2)\n",
    "\n",
    "# Fit the models\n",
    "dt_grid_search.fit(X_train_scaled, y_train)\n",
    "rf_grid_search.fit(X_train_scaled, y_train)\n",
    "lr_grid_search.fit(X_train_scaled, y_train)\n",
    "\n",
    "# Print the best parameters found by GridSearchCV\n",
    "print(f\"Best parameters for Decision Tree: {dt_grid_search.best_params_}\")\n",
    "print(f\"Best parameters for Random Forest: {rf_grid_search.best_params_}\")\n",
    "print(f\"Best parameters for Logistic Regression: {lr_grid_search.best_params_}\")\n",
    "\n",
    "# Get the best models from GridSearchCV\n",
    "best_dt_model = dt_grid_search.best_estimator_\n",
    "best_rf_model = rf_grid_search.best_estimator_\n",
    "best_lr_model = lr_grid_search.best_estimator_"
   ]
  },
  {
   "cell_type": "markdown",
   "metadata": {},
   "source": [
    "### 6.1.3. Model with best hyperparameters and evaluate"
   ]
  },
  {
   "cell_type": "code",
   "execution_count": 26,
   "metadata": {},
   "outputs": [
    {
     "name": "stdout",
     "output_type": "stream",
     "text": [
      "Model Performance Evaluation:\n",
      "\n",
      "Decision Tree:\n",
      "  Accuracy: 0.6852\n",
      "  Precision: 0.9052\n",
      "  Recall: 0.5332\n",
      "  F1 Score: 0.6711\n",
      "  AUC: 0.7521\n",
      "\n",
      "Random Forest:\n",
      "  Accuracy: 0.6752\n",
      "  Precision: 0.8418\n",
      "  Recall: 0.5674\n",
      "  F1 Score: 0.6779\n",
      "  AUC: 0.7370\n",
      "\n",
      "Logistic Regression:\n",
      "  Accuracy: 0.6364\n",
      "  Precision: 0.7080\n",
      "  Recall: 0.6745\n",
      "  F1 Score: 0.6909\n",
      "  AUC: 0.7189\n"
     ]
    }
   ],
   "source": [
    "# Create the models with the best parameters\n",
    "dt_model = DecisionTreeClassifier(\n",
    "    criterion='entropy',\n",
    "    max_depth=5,\n",
    "    min_samples_leaf=1,\n",
    "    min_samples_split=2,\n",
    "    random_state=42\n",
    ")\n",
    "\n",
    "rf_model = RandomForestClassifier(\n",
    "    bootstrap=False,\n",
    "    max_depth=10,\n",
    "    max_features='sqrt',\n",
    "    min_samples_leaf=4,\n",
    "    min_samples_split=2,\n",
    "    n_estimators=50,\n",
    "    random_state=42\n",
    ")\n",
    "\n",
    "lr_model = LogisticRegression(\n",
    "    C=0.1,\n",
    "    penalty='l2',\n",
    "    solver='liblinear',\n",
    "    random_state=42\n",
    ")\n",
    "\n",
    "# Train each model\n",
    "dt_model.fit(X_train_scaled, y_train)\n",
    "rf_model.fit(X_train_scaled, y_train)\n",
    "lr_model.fit(X_train_scaled, y_train)\n",
    "\n",
    "# Make predictions\n",
    "dt_pred = dt_model.predict(X_test_scaled)\n",
    "rf_pred = rf_model.predict(X_test_scaled)\n",
    "lr_pred = lr_model.predict(X_test_scaled)\n",
    "\n",
    "# For AUC, we need probabilities (for binary classification)\n",
    "dt_pred_proba = dt_model.predict_proba(X_test_scaled)[:, 1]\n",
    "rf_pred_proba = rf_model.predict_proba(X_test_scaled)[:, 1]\n",
    "lr_pred_proba = lr_model.predict_proba(X_test_scaled)[:, 1]\n",
    "\n",
    "# Evaluate each model\n",
    "metrics = {\n",
    "    \"Accuracy\": accuracy_score,\n",
    "    \"Precision\": precision_score,\n",
    "    \"Recall\": recall_score,\n",
    "    \"F1 Score\": f1_score,\n",
    "    \"AUC\": roc_auc_score\n",
    "}\n",
    "\n",
    "print(\"Model Performance Evaluation:\")\n",
    "for model, name, pred, pred_proba in zip(\n",
    "    [dt_model, rf_model, lr_model], \n",
    "    [\"Decision Tree\", \"Random Forest\", \"Logistic Regression\"], \n",
    "    [dt_pred, rf_pred, lr_pred], \n",
    "    [dt_pred_proba, rf_pred_proba, lr_pred_proba]\n",
    "):\n",
    "    print(f\"\\n{name}:\")\n",
    "    for metric_name, metric_function in metrics.items():\n",
    "        if metric_name == \"AUC\":\n",
    "            score = metric_function(y_test, pred_proba)\n",
    "        else:\n",
    "            score = metric_function(y_test, pred)\n",
    "        print(f\"  {metric_name}: {score:.4f}\")"
   ]
  },
  {
   "cell_type": "markdown",
   "metadata": {},
   "source": [
    "### *Observations*\n",
    "* After tuning of models, Decision Tree model has performed at accuracy of 68.52%, precision of 90.52% and AUC of  0.7521 better than Random Forest that is performing at an 67.52%, 84.18% and 0.7370 respectively."
   ]
  },
  {
   "cell_type": "markdown",
   "metadata": {},
   "source": [
    "### 6.1.4 Cross Validation"
   ]
  },
  {
   "cell_type": "code",
   "execution_count": 27,
   "metadata": {},
   "outputs": [
    {
     "name": "stdout",
     "output_type": "stream",
     "text": [
      "Decision Tree Cross-Validation Accuracy: 0.6848\n",
      "Random Forest Cross-Validation Accuracy: 0.6770\n",
      "Logistic Regression Cross-Validation Accuracy: 0.6392\n"
     ]
    }
   ],
   "source": [
    "from sklearn.model_selection import cross_val_score\n",
    "\n",
    "# Cross-validation for each model\n",
    "dt_cv_scores = cross_val_score(dt_model, X_train_scaled, y_train, cv=5, scoring='accuracy')\n",
    "rf_cv_scores = cross_val_score(rf_model, X_train_scaled, y_train, cv=5, scoring='accuracy')\n",
    "lr_cv_scores = cross_val_score(lr_model, X_train_scaled, y_train, cv=5, scoring='accuracy')\n",
    "\n",
    "print(f\"Decision Tree Cross-Validation Accuracy: {dt_cv_scores.mean():.4f}\")\n",
    "print(f\"Random Forest Cross-Validation Accuracy: {rf_cv_scores.mean():.4f}\")\n",
    "print(f\"Logistic Regression Cross-Validation Accuracy: {lr_cv_scores.mean():.4f}\")"
   ]
  },
  {
   "cell_type": "markdown",
   "metadata": {},
   "source": [
    "### *Observation*\n",
    "\n",
    "Decision Tree classification model is the best perfroming, hence best choice to deploy for predicting future delivery timelines by the company"
   ]
  },
  {
   "cell_type": "markdown",
   "metadata": {},
   "source": [
    "# 7.0 Conclusions and Recommendations"
   ]
  },
  {
   "cell_type": "markdown",
   "metadata": {},
   "source": [
    "## 7.1 Conclusions\n",
    "\n",
    "### Main factors contributing to shipping delays\n",
    "* *Warehouse block,* majority of the dispatches that ended up being delayed originated fro block F\n",
    "* *Mode of shipment,* movement of shipment by sea(ship) resulted in delays; possibly due to speed of ships which is lower.\n",
    "* *Product importance,* product categories of low and medium shipped/ordered delayed\n",
    "\n",
    "### Customer demographics and product preferences influencing delivery experiences\n",
    "* Both genders exhibit same trend on levels of prior puchases and ratings, though females seem to have made sligthly more purchases than males. \n",
    "* Higher customer preference and ratings possibly is as a result of being satisfied with delivery service.\n",
    "\n",
    "### Cost effective shipping mode and routes\n",
    "* Shipment by Road and Flight are generally the cost effective modes of shipment where the company incurred the least rate in incentizing sale.\n",
    "* Cost effective routes is by shipment through all warehouse blocks except block F\n",
    "* The top three cost effective routes is shipping through block D by Road, block B by Flight and block D by Flight respectively.\n",
    "\n",
    "### Best predictive model to deploy\n",
    "* An optimized Decision Tree Classification model\n",
    "\n",
    "## 7.2 Recommendations\n",
    "* Optimize warehouse operations especially block F as it is major source of delays\n",
    "* Improve on performance of sea shipment or explore faster modes like road or air.\n",
    "* Based on anlysis of the data, the company to maintain and expand the most cost effective shipping modes and routes\n",
    "* Deploy Decision Tree Model to forecast delays and improve on route decisions"
   ]
  }
 ],
 "metadata": {
  "kernelspec": {
   "display_name": "Python 3 (ipykernel)",
   "language": "python",
   "name": "python3"
  },
  "language_info": {
   "codemirror_mode": {
    "name": "ipython",
    "version": 3
   },
   "file_extension": ".py",
   "mimetype": "text/x-python",
   "name": "python",
   "nbconvert_exporter": "python",
   "pygments_lexer": "ipython3",
   "version": "3.12.3"
  }
 },
 "nbformat": 4,
 "nbformat_minor": 2
}
